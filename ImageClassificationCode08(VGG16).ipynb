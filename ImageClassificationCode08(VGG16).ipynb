{
  "cells": [
    {
      "cell_type": "markdown",
      "metadata": {
        "id": "view-in-github",
        "colab_type": "text"
      },
      "source": [
        "<a href=\"https://colab.research.google.com/github/FerdousJUST/ImageClassificationCoding-2023-/blob/main/ImageClassificationCode08(VGG16).ipynb\" target=\"_parent\"><img src=\"https://colab.research.google.com/assets/colab-badge.svg\" alt=\"Open In Colab\"/></a>"
      ]
    },
    {
      "cell_type": "code",
      "execution_count": null,
      "metadata": {
        "id": "4FOWsc6mks44"
      },
      "outputs": [],
      "source": [
        "from keras.layers import Input, Lambda, Dense, Flatten\n",
        "from keras.models import Model\n",
        "from keras.applications.vgg16 import VGG16\n",
        "from keras.applications.vgg16 import preprocess_input\n",
        "from keras.preprocessing import image\n",
        "from keras.preprocessing.image import ImageDataGenerator\n",
        "from keras.models import Sequential\n",
        "import numpy as np\n",
        "from glob import glob\n",
        "import matplotlib.pyplot as plt"
      ]
    },
    {
      "cell_type": "code",
      "execution_count": null,
      "metadata": {
        "id": "Ck-PO0MZk4_N"
      },
      "outputs": [],
      "source": [
        "\n",
        "# re-size all the images to this\n",
        "IMAGE_SIZE = [224, 224]\n",
        "\n",
        "train_path = '/content/drive/MyDrive/Image_Classification_Dataset/Training01'\n",
        "valid_path = '/content/drive/MyDrive/Image_Classification_Dataset/Validation'"
      ]
    },
    {
      "cell_type": "code",
      "execution_count": null,
      "metadata": {
        "colab": {
          "base_uri": "https://localhost:8080/"
        },
        "id": "slAaxNmOk472",
        "outputId": "2a7314c1-6879-4be0-ebdb-f9077a93035e"
      },
      "outputs": [
        {
          "output_type": "stream",
          "name": "stdout",
          "text": [
            "Downloading data from https://storage.googleapis.com/tensorflow/keras-applications/vgg16/vgg16_weights_tf_dim_ordering_tf_kernels_notop.h5\n",
            "58889256/58889256 [==============================] - 0s 0us/step\n"
          ]
        }
      ],
      "source": [
        "\n",
        "# add preprocessing layer to the front of VGG\n",
        "vgg = VGG16(input_shape=IMAGE_SIZE + [3], weights='imagenet', include_top=False)"
      ]
    },
    {
      "cell_type": "code",
      "execution_count": null,
      "metadata": {
        "id": "X6SUcncSk44o"
      },
      "outputs": [],
      "source": [
        "\n",
        "# don't train existing weights\n",
        "for layer in vgg.layers:\n",
        "  layer.trainable = False"
      ]
    },
    {
      "cell_type": "code",
      "execution_count": null,
      "metadata": {
        "id": "zdjyZTvHk9Rp"
      },
      "outputs": [],
      "source": [
        "\n",
        "  # useful for getting number of classes\n",
        "folders = glob('/content/drive/MyDrive/Image_Classification_Dataset/Training01/*')"
      ]
    },
    {
      "cell_type": "code",
      "execution_count": null,
      "metadata": {
        "id": "acQ2lmxkk9OU"
      },
      "outputs": [],
      "source": [
        "\n",
        "# our layers - you can add more if you want\n",
        "x = Flatten()(vgg.output)\n",
        "# x = Dense(1000, activation='relu')(x)\n",
        "prediction = Dense(len(folders), activation='softmax')(x)"
      ]
    },
    {
      "cell_type": "code",
      "execution_count": null,
      "metadata": {
        "id": "khvAZ4Jmk9LC"
      },
      "outputs": [],
      "source": [
        "\n",
        "# create a model object\n",
        "model = Model(inputs=vgg.input, outputs=prediction)"
      ]
    },
    {
      "cell_type": "code",
      "execution_count": null,
      "metadata": {
        "colab": {
          "base_uri": "https://localhost:8080/"
        },
        "id": "rk_tF1IHk41I",
        "outputId": "299acfc7-20fc-4e7c-e1b3-b0a7a8fe0391"
      },
      "outputs": [
        {
          "output_type": "stream",
          "name": "stdout",
          "text": [
            "Model: \"model\"\n",
            "_________________________________________________________________\n",
            " Layer (type)                Output Shape              Param #   \n",
            "=================================================================\n",
            " input_1 (InputLayer)        [(None, 224, 224, 3)]     0         \n",
            "                                                                 \n",
            " block1_conv1 (Conv2D)       (None, 224, 224, 64)      1792      \n",
            "                                                                 \n",
            " block1_conv2 (Conv2D)       (None, 224, 224, 64)      36928     \n",
            "                                                                 \n",
            " block1_pool (MaxPooling2D)  (None, 112, 112, 64)      0         \n",
            "                                                                 \n",
            " block2_conv1 (Conv2D)       (None, 112, 112, 128)     73856     \n",
            "                                                                 \n",
            " block2_conv2 (Conv2D)       (None, 112, 112, 128)     147584    \n",
            "                                                                 \n",
            " block2_pool (MaxPooling2D)  (None, 56, 56, 128)       0         \n",
            "                                                                 \n",
            " block3_conv1 (Conv2D)       (None, 56, 56, 256)       295168    \n",
            "                                                                 \n",
            " block3_conv2 (Conv2D)       (None, 56, 56, 256)       590080    \n",
            "                                                                 \n",
            " block3_conv3 (Conv2D)       (None, 56, 56, 256)       590080    \n",
            "                                                                 \n",
            " block3_pool (MaxPooling2D)  (None, 28, 28, 256)       0         \n",
            "                                                                 \n",
            " block4_conv1 (Conv2D)       (None, 28, 28, 512)       1180160   \n",
            "                                                                 \n",
            " block4_conv2 (Conv2D)       (None, 28, 28, 512)       2359808   \n",
            "                                                                 \n",
            " block4_conv3 (Conv2D)       (None, 28, 28, 512)       2359808   \n",
            "                                                                 \n",
            " block4_pool (MaxPooling2D)  (None, 14, 14, 512)       0         \n",
            "                                                                 \n",
            " block5_conv1 (Conv2D)       (None, 14, 14, 512)       2359808   \n",
            "                                                                 \n",
            " block5_conv2 (Conv2D)       (None, 14, 14, 512)       2359808   \n",
            "                                                                 \n",
            " block5_conv3 (Conv2D)       (None, 14, 14, 512)       2359808   \n",
            "                                                                 \n",
            " block5_pool (MaxPooling2D)  (None, 7, 7, 512)         0         \n",
            "                                                                 \n",
            " flatten (Flatten)           (None, 25088)             0         \n",
            "                                                                 \n",
            " dense (Dense)               (None, 4)                 100356    \n",
            "                                                                 \n",
            "=================================================================\n",
            "Total params: 14815044 (56.51 MB)\n",
            "Trainable params: 100356 (392.02 KB)\n",
            "Non-trainable params: 14714688 (56.13 MB)\n",
            "_________________________________________________________________\n"
          ]
        }
      ],
      "source": [
        "\n",
        "# view the structure of the model\n",
        "model.summary()"
      ]
    },
    {
      "cell_type": "code",
      "execution_count": null,
      "metadata": {
        "id": "ouCLRvsKk4uq"
      },
      "outputs": [],
      "source": [
        "\n",
        "# tell the model what cost and optimization method to use\n",
        "model.compile(\n",
        "  loss='categorical_crossentropy',\n",
        "  optimizer='adam',\n",
        "  metrics=['accuracy']\n",
        ")"
      ]
    },
    {
      "cell_type": "code",
      "execution_count": null,
      "metadata": {
        "colab": {
          "base_uri": "https://localhost:8080/"
        },
        "id": "wSCUXyq2lLVS",
        "outputId": "6c521ed1-01f6-423f-b97a-7baa9a7aafb9"
      },
      "outputs": [
        {
          "output_type": "stream",
          "name": "stdout",
          "text": [
            "Found 4800 images belonging to 4 classes.\n",
            "Found 1200 images belonging to 4 classes.\n"
          ]
        }
      ],
      "source": [
        "from keras.preprocessing.image import ImageDataGenerator\n",
        "\n",
        "train_datagen = ImageDataGenerator(rescale = 1./255,\n",
        "                                   shear_range = 0.2,\n",
        "                                   zoom_range = 0.2,\n",
        "                                   horizontal_flip = True)\n",
        "\n",
        "test_datagen = ImageDataGenerator(rescale = 1./255)\n",
        "\n",
        "training_set = train_datagen.flow_from_directory(train_path,\n",
        "                                                 target_size = (224, 224),\n",
        "                                                 batch_size = 32,\n",
        "                                                 class_mode = 'categorical')\n",
        "\n",
        "test_set = test_datagen.flow_from_directory(valid_path,\n",
        "                                            target_size = (224, 224),\n",
        "                                            batch_size = 32,\n",
        "                                            class_mode = 'categorical')"
      ]
    },
    {
      "cell_type": "code",
      "execution_count": null,
      "metadata": {
        "colab": {
          "base_uri": "https://localhost:8080/"
        },
        "id": "RkCUd3LglLSD",
        "outputId": "9aed9e39-b27c-436c-c27b-62c5a5e50320"
      },
      "outputs": [
        {
          "output_type": "stream",
          "name": "stderr",
          "text": [
            "/usr/local/lib/python3.10/dist-packages/keras/src/engine/training.py:3079: UserWarning: You are saving your model as an HDF5 file via `model.save()`. This file format is considered legacy. We recommend using instead the native Keras format, e.g. `model.save('my_model.keras')`.\n",
            "  saving_api.save_model(\n"
          ]
        }
      ],
      "source": [
        "\n",
        "import tensorflow as tf\n",
        "\n",
        "from keras.models import load_model\n",
        "\n",
        "model.save('/content/drive/MyDrive/MSc Thesis Research Work 2023/Coding File 08 (VGG16)/vgg16_model.h5')"
      ]
    },
    {
      "cell_type": "code",
      "execution_count": 12,
      "metadata": {
        "colab": {
          "base_uri": "https://localhost:8080/"
        },
        "id": "DBsUerj3lLO6",
        "outputId": "7d61edf5-f4ab-4f83-b746-8e271da32199"
      },
      "outputs": [
        {
          "metadata": {
            "tags": null
          },
          "name": "stderr",
          "output_type": "stream",
          "text": [
            "<ipython-input-12-39a22121036e>:2: UserWarning: `Model.fit_generator` is deprecated and will be removed in a future version. Please use `Model.fit`, which supports generators.\n",
            "  r = model.fit_generator(\n"
          ]
        },
        {
          "output_type": "stream",
          "name": "stdout",
          "text": [
            "Epoch 1/5\n",
            "150/150 [==============================] - 1354s 9s/step - loss: 0.3781 - accuracy: 0.8727 - val_loss: 0.1297 - val_accuracy: 0.9708\n",
            "Epoch 2/5\n",
            "150/150 [==============================] - 90s 600ms/step - loss: 0.0767 - accuracy: 0.9848 - val_loss: 0.0633 - val_accuracy: 0.9850\n",
            "Epoch 3/5\n",
            "150/150 [==============================] - 90s 597ms/step - loss: 0.0367 - accuracy: 0.9956 - val_loss: 0.0356 - val_accuracy: 0.9958\n",
            "Epoch 4/5\n",
            "150/150 [==============================] - 89s 595ms/step - loss: 0.0262 - accuracy: 0.9975 - val_loss: 0.0217 - val_accuracy: 0.9983\n",
            "Epoch 5/5\n",
            "150/150 [==============================] - 88s 586ms/step - loss: 0.0201 - accuracy: 0.9975 - val_loss: 0.0240 - val_accuracy: 0.9958\n"
          ]
        }
      ],
      "source": [
        "\n",
        "# fit the model\n",
        "r = model.fit_generator(\n",
        "  training_set,\n",
        "  validation_data=test_set,\n",
        "  epochs=5,\n",
        "  steps_per_epoch=len(training_set),\n",
        "  validation_steps=len(test_set)\n",
        ")"
      ]
    },
    {
      "cell_type": "code",
      "execution_count": 13,
      "metadata": {
        "id": "cvmNgP5ylLLy",
        "colab": {
          "base_uri": "https://localhost:8080/",
          "height": 590
        },
        "outputId": "5ebf97e8-5ede-4dbb-beb9-114176887712"
      },
      "outputs": [
        {
          "output_type": "stream",
          "name": "stderr",
          "text": [
            "<ipython-input-13-fb692324c136>:1: UserWarning: color is redundantly defined by the 'color' keyword argument and the fmt string \"b-o\" (-> color='b'). The keyword argument will take precedence.\n",
            "  plt.plot(r.history['loss'],'b-o',color = 'blue',label = 'train',linewidth=3.0)\n",
            "<ipython-input-13-fb692324c136>:2: UserWarning: color is redundantly defined by the 'color' keyword argument and the fmt string \"b-o\" (-> color='b'). The keyword argument will take precedence.\n",
            "  plt.plot(r.history['val_loss'],'b-o',color = 'orange',label = 'train',linewidth=3.0)\n"
          ]
        },
        {
          "output_type": "display_data",
          "data": {
            "text/plain": [
              "<Figure size 640x480 with 1 Axes>"
            ],
            "image/png": "[encoded data removed]"
          },
          "metadata": {}
        }
      ],
      "source": [
        "\n",
        "plt.plot(r.history['loss'],'b-o',color = 'blue',label = 'train',linewidth=3.0)\n",
        "plt.plot(r.history['val_loss'],'b-o',color = 'orange',label = 'train',linewidth=3.0)\n",
        "plt.grid(True)\n",
        "epochs = range(1,10)\n",
        "#plt.legend(['loss', 'val_loss'], loc='upper right')\n",
        "plt.legend(['train loss', 'test val_loss'], loc='upper right')\n",
        "plt.title(\"Train & Test loss with epochs\\n\",fontsize = 16)\n",
        "plt.xlabel(\"Training Epochs\",fontsize= 12)\n",
        "plt.ylabel(\"Train & Test loss\",fontsize =12)\n",
        "plt.show()"
      ]
    },
    {
      "cell_type": "code",
      "execution_count": 15,
      "metadata": {
        "id": "rDseyXJBlLIV",
        "colab": {
          "base_uri": "https://localhost:8080/",
          "height": 590
        },
        "outputId": "f1472bd9-19b2-497d-c8b8-4bc2688064b4"
      },
      "outputs": [
        {
          "output_type": "stream",
          "name": "stderr",
          "text": [
            "<ipython-input-15-70cd3bf0139e>:1: UserWarning: color is redundantly defined by the 'color' keyword argument and the fmt string \"b-o\" (-> color='b'). The keyword argument will take precedence.\n",
            "  plt.plot(r.history['accuracy'],'b-o',color = 'blue',label = 'train',linewidth=3.0)\n",
            "<ipython-input-15-70cd3bf0139e>:2: UserWarning: color is redundantly defined by the 'color' keyword argument and the fmt string \"b-o\" (-> color='b'). The keyword argument will take precedence.\n",
            "  plt.plot(r.history['val_accuracy'],'b-o',color = 'orange',label = 'train',linewidth=3.0)\n"
          ]
        },
        {
          "output_type": "display_data",
          "data": {
            "text/plain": [
              "<Figure size 640x480 with 1 Axes>"
            ],
            "image/png": "[encoded data removed]"
          },
          "metadata": {}
        }
      ],
      "source": [
        "\n",
        "plt.plot(r.history['accuracy'],'b-o',color = 'blue',label = 'train',linewidth=3.0)\n",
        "plt.plot(r.history['val_accuracy'],'b-o',color = 'orange',label = 'train',linewidth=3.0)\n",
        "plt.grid(True)\n",
        "epochs = range(1,10)\n",
        "#plt.legend(['loss', 'val_loss'], loc='upper right')\n",
        "plt.legend(['train accuracy', 'test accuracy'], loc='lower right')\n",
        "plt.title(\"Train & Test accuracy with epochs\\n\",fontsize = 16)\n",
        "plt.xlabel(\"Training Epochs\",fontsize= 12)\n",
        "plt.ylabel(\"Train & Test accuracy\",fontsize =12)\n",
        "plt.show()"
      ]
    },
    {
      "cell_type": "code",
      "execution_count": 16,
      "metadata": {
        "id": "ea2yga2blh3S",
        "colab": {
          "base_uri": "https://localhost:8080/",
          "height": 338
        },
        "outputId": "16bfe0fd-a0fd-41d1-95e6-0fab4f3756dd"
      },
      "outputs": [
        {
          "output_type": "error",
          "ename": "IndexError",
          "evalue": "ignored",
          "traceback": [
            "\u001b[0;31m---------------------------------------------------------------------------\u001b[0m",
            "\u001b[0;31mIndexError\u001b[0m                                Traceback (most recent call last)",
            "\u001b[0;32m<ipython-input-16-b03ac6b81ddc>\u001b[0m in \u001b[0;36m<cell line: 1>\u001b[0;34m()\u001b[0m\n\u001b[0;32m----> 1\u001b[0;31m \u001b[0macc\u001b[0m \u001b[0;34m=\u001b[0m \u001b[0mmodel\u001b[0m\u001b[0;34m.\u001b[0m\u001b[0mevaluate\u001b[0m\u001b[0;34m(\u001b[0m\u001b[0mvalid_path\u001b[0m\u001b[0;34m,\u001b[0m\u001b[0msteps\u001b[0m \u001b[0;34m=\u001b[0m \u001b[0mlen\u001b[0m\u001b[0;34m(\u001b[0m\u001b[0mvalid_path\u001b[0m\u001b[0;34m)\u001b[0m\u001b[0;34m,\u001b[0m\u001b[0mverbose\u001b[0m \u001b[0;34m=\u001b[0m \u001b[0;36m0\u001b[0m\u001b[0;34m)\u001b[0m\u001b[0;34m\u001b[0m\u001b[0;34m\u001b[0m\u001b[0m\n\u001b[0m\u001b[1;32m      2\u001b[0m \u001b[0mprint\u001b[0m\u001b[0;34m(\u001b[0m\u001b[0;34m'%.2f'\u001b[0m\u001b[0;34m%\u001b[0m\u001b[0;34m(\u001b[0m\u001b[0macc\u001b[0m\u001b[0;34m[\u001b[0m\u001b[0;36m3\u001b[0m\u001b[0;34m]\u001b[0m\u001b[0;34m*\u001b[0m\u001b[0;36m100\u001b[0m\u001b[0;34m)\u001b[0m\u001b[0;34m)\u001b[0m\u001b[0;34m\u001b[0m\u001b[0;34m\u001b[0m\u001b[0m\n",
            "\u001b[0;32m/usr/local/lib/python3.10/dist-packages/keras/src/utils/traceback_utils.py\u001b[0m in \u001b[0;36merror_handler\u001b[0;34m(*args, **kwargs)\u001b[0m\n\u001b[1;32m     68\u001b[0m             \u001b[0;31m# To get the full stack trace, call:\u001b[0m\u001b[0;34m\u001b[0m\u001b[0;34m\u001b[0m\u001b[0m\n\u001b[1;32m     69\u001b[0m             \u001b[0;31m# `tf.debugging.disable_traceback_filtering()`\u001b[0m\u001b[0;34m\u001b[0m\u001b[0;34m\u001b[0m\u001b[0m\n\u001b[0;32m---> 70\u001b[0;31m             \u001b[0;32mraise\u001b[0m \u001b[0me\u001b[0m\u001b[0;34m.\u001b[0m\u001b[0mwith_traceback\u001b[0m\u001b[0;34m(\u001b[0m\u001b[0mfiltered_tb\u001b[0m\u001b[0;34m)\u001b[0m \u001b[0;32mfrom\u001b[0m \u001b[0;32mNone\u001b[0m\u001b[0;34m\u001b[0m\u001b[0;34m\u001b[0m\u001b[0m\n\u001b[0m\u001b[1;32m     71\u001b[0m         \u001b[0;32mfinally\u001b[0m\u001b[0;34m:\u001b[0m\u001b[0;34m\u001b[0m\u001b[0;34m\u001b[0m\u001b[0m\n\u001b[1;32m     72\u001b[0m             \u001b[0;32mdel\u001b[0m \u001b[0mfiltered_tb\u001b[0m\u001b[0;34m\u001b[0m\u001b[0;34m\u001b[0m\u001b[0m\n",
            "\u001b[0;32m/usr/local/lib/python3.10/dist-packages/tensorflow/python/framework/tensor_shape.py\u001b[0m in \u001b[0;36m__getitem__\u001b[0;34m(self, key)\u001b[0m\n\u001b[1;32m    957\u001b[0m       \u001b[0;32melse\u001b[0m\u001b[0;34m:\u001b[0m\u001b[0;34m\u001b[0m\u001b[0;34m\u001b[0m\u001b[0m\n\u001b[1;32m    958\u001b[0m         \u001b[0;32mif\u001b[0m \u001b[0mself\u001b[0m\u001b[0;34m.\u001b[0m\u001b[0m_v2_behavior\u001b[0m\u001b[0;34m:\u001b[0m\u001b[0;34m\u001b[0m\u001b[0;34m\u001b[0m\u001b[0m\n\u001b[0;32m--> 959\u001b[0;31m           \u001b[0;32mreturn\u001b[0m \u001b[0mself\u001b[0m\u001b[0;34m.\u001b[0m\u001b[0m_dims\u001b[0m\u001b[0;34m[\u001b[0m\u001b[0mkey\u001b[0m\u001b[0;34m]\u001b[0m\u001b[0;34m\u001b[0m\u001b[0;34m\u001b[0m\u001b[0m\n\u001b[0m\u001b[1;32m    960\u001b[0m         \u001b[0;32melse\u001b[0m\u001b[0;34m:\u001b[0m\u001b[0;34m\u001b[0m\u001b[0;34m\u001b[0m\u001b[0m\n\u001b[1;32m    961\u001b[0m           \u001b[0;32mreturn\u001b[0m \u001b[0mself\u001b[0m\u001b[0;34m.\u001b[0m\u001b[0mdims\u001b[0m\u001b[0;34m[\u001b[0m\u001b[0mkey\u001b[0m\u001b[0;34m]\u001b[0m\u001b[0;34m\u001b[0m\u001b[0;34m\u001b[0m\u001b[0m\n",
            "\u001b[0;31mIndexError\u001b[0m: tuple index out of range"
          ]
        }
      ],
      "source": [
        "\n",
        "acc = model.evaluate(valid_path,steps = len(valid_path),verbose = 0)\n",
        "print('%.2f'%(acc[3]*100))"
      ]
    },
    {
      "cell_type": "code",
      "execution_count": 17,
      "metadata": {
        "id": "NVB7mXwDlhzO",
        "colab": {
          "base_uri": "https://localhost:8080/"
        },
        "outputId": "9e8b70d3-3ad6-4c6e-d1f1-aef80d394514"
      },
      "outputs": [
        {
          "output_type": "stream",
          "name": "stdout",
          "text": [
            "1/1 [==============================] - 1s 921ms/step\n",
            "[[1. 0. 0. 0.]]\n",
            " Barbel Fish \n"
          ]
        }
      ],
      "source": [
        "from tensorflow.python.ops.gen_math_ops import Round\n",
        "from keras.preprocessing import image\n",
        "import numpy as np\n",
        "from keras.utils import load_img, img_to_array\n",
        "test_image = load_img(\n",
        "'/content/drive/MyDrive/Image_Classification_Dataset/Training/Barbel_Fish/Barbel_Fish 017.jpg',\n",
        "                      target_size = (224,224))\n",
        "test_image = img_to_array(test_image)\n",
        "test_image = np.expand_dims(test_image,axis = 0)\n",
        "rslt = model.predict(test_image)\n",
        "print (rslt)\n",
        "\n",
        "if   rslt[0][0] == 1:\n",
        "        ans = \" Barbel Fish \"\n",
        "elif rslt[0][1] == 1:\n",
        "        ans = \"Hilsha Fish \"\n",
        "elif rslt[0][2] == 1:\n",
        "        ans = \"Spotted Snakehead Fish \"\n",
        "elif rslt[0][3] == 1:\n",
        "        ans = \" Tilapia Fish\"\n",
        "print(ans)"
      ]
    },
    {
      "cell_type": "code",
      "execution_count": 18,
      "metadata": {
        "id": "3W_rANy8lhvi",
        "colab": {
          "base_uri": "https://localhost:8080/"
        },
        "outputId": "0c5fac08-6bbc-48ef-baeb-9637946df8bc"
      },
      "outputs": [
        {
          "output_type": "stream",
          "name": "stdout",
          "text": [
            "1/1 [==============================] - 0s 18ms/step\n",
            "[[0. 1. 0. 0.]]\n",
            "Hilsha Fish \n"
          ]
        }
      ],
      "source": [
        "from tensorflow.python.ops.gen_math_ops import Round\n",
        "from keras.preprocessing import image\n",
        "import numpy as np\n",
        "from keras.utils import load_img, img_to_array\n",
        "test_image = load_img(\n",
        "'/content/drive/MyDrive/Image_Classification_Dataset/Training/Hilsha_Fish/Hilsha_Fish 012.jpg',\n",
        "                      target_size = (224,224))\n",
        "test_image = img_to_array(test_image)\n",
        "test_image = np.expand_dims(test_image,axis = 0)\n",
        "rslt = model.predict(test_image)\n",
        "print (rslt)\n",
        "\n",
        "if   rslt[0][0] == 1:\n",
        "        ans = \" Barbel Fish \"\n",
        "elif rslt[0][1] == 1:\n",
        "        ans = \"Hilsha Fish \"\n",
        "elif rslt[0][2] == 1:\n",
        "        ans = \"Spotted Snakehead Fish \"\n",
        "elif rslt[0][3] == 1:\n",
        "        ans = \" Tilapia Fish\"\n",
        "print(ans)"
      ]
    },
    {
      "cell_type": "code",
      "execution_count": 19,
      "metadata": {
        "id": "9yyGUyaPlhnk",
        "colab": {
          "base_uri": "https://localhost:8080/"
        },
        "outputId": "060f7886-19e1-4eb3-e632-a487cd4ef34d"
      },
      "outputs": [
        {
          "output_type": "stream",
          "name": "stdout",
          "text": [
            "1/1 [==============================] - 0s 18ms/step\n",
            "[[0. 0. 1. 0.]]\n",
            "Spotted Snakehead Fish \n"
          ]
        }
      ],
      "source": [
        "from tensorflow.python.ops.gen_math_ops import Round\n",
        "from keras.preprocessing import image\n",
        "import numpy as np\n",
        "from keras.utils import load_img, img_to_array\n",
        "test_image = load_img(\n",
        "'/content/drive/MyDrive/Image_Classification_Dataset/Training/Spotted_Snakehead_Fish/Spotted_Fish 016.jpg',\n",
        "                      target_size = (224,224))\n",
        "test_image = img_to_array(test_image)\n",
        "test_image = np.expand_dims(test_image,axis = 0)\n",
        "rslt = model.predict(test_image)\n",
        "print (rslt)\n",
        "\n",
        "if   rslt[0][0] == 1:\n",
        "        ans = \" Barbel Fish \"\n",
        "elif rslt[0][1] == 1:\n",
        "        ans = \"Hilsha Fish \"\n",
        "elif rslt[0][2] == 1:\n",
        "        ans = \"Spotted Snakehead Fish \"\n",
        "elif rslt[0][3] == 1:\n",
        "        ans = \" Tilapia Fish\"\n",
        "print(ans)"
      ]
    },
    {
      "cell_type": "code",
      "execution_count": 20,
      "metadata": {
        "id": "EpD33XOgltdM",
        "colab": {
          "base_uri": "https://localhost:8080/"
        },
        "outputId": "c491f1da-4f46-4fae-bbab-0cb71302d6a1"
      },
      "outputs": [
        {
          "output_type": "stream",
          "name": "stdout",
          "text": [
            "1/1 [==============================] - 0s 27ms/step\n",
            "[[0. 0. 0. 1.]]\n",
            " Tilapia Fish\n"
          ]
        }
      ],
      "source": [
        "\n",
        "from tensorflow.python.ops.gen_math_ops import Round\n",
        "from keras.preprocessing import image\n",
        "import numpy as np\n",
        "from keras.utils import load_img, img_to_array\n",
        "test_image = load_img(\n",
        "'/content/drive/MyDrive/Image_Classification_Dataset/Training/Tilapia_Fish/Tilapia_Fish 049.png',\n",
        "                      target_size = (224,224))\n",
        "test_image = img_to_array(test_image)\n",
        "test_image = np.expand_dims(test_image,axis = 0)\n",
        "rslt = model.predict(test_image)\n",
        "print (rslt)\n",
        "\n",
        "if   rslt[0][0] == 1:\n",
        "        ans = \" Barbel Fish \"\n",
        "elif rslt[0][1] == 1:\n",
        "        ans = \"Hilsha Fish \"\n",
        "elif rslt[0][2] == 1:\n",
        "        ans = \"Spotted Snakehead Fish \"\n",
        "elif rslt[0][3] == 1:\n",
        "        ans = \" Tilapia Fish\"\n",
        "print(ans)"
      ]
    }
  ],
  "metadata": {
    "accelerator": "GPU",
    "colab": {
      "provenance": [],
      "mount_file_id": "1O_P9BkFiaUD-0Ft0atxiPPnelkRNdhMC",
      "authorship_tag": "ABX9TyPcVKK1cWsu/mhjwNZr70Kj",
      "include_colab_link": true
    },
    "kernelspec": {
      "display_name": "Python 3",
      "name": "python3"
    },
    "language_info": {
      "name": "python"
    }
  },
  "nbformat": 4,
  "nbformat_minor": 0
}